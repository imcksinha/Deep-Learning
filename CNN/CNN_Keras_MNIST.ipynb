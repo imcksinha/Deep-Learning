{
  "nbformat": 4,
  "nbformat_minor": 0,
  "metadata": {
    "colab": {
      "name": "CNN_Model_MNIST.ipynb",
      "provenance": [],
      "collapsed_sections": []
    },
    "kernelspec": {
      "name": "python3",
      "display_name": "Python 3"
    },
    "accelerator": "GPU"
  },
  "cells": [
    {
      "cell_type": "markdown",
      "metadata": {
        "id": "WE7fxNfoGyEm",
        "colab_type": "text"
      },
      "source": [
        "### Import the libraries"
      ]
    },
    {
      "cell_type": "code",
      "metadata": {
        "id": "7kvyBuFaF4Pg",
        "colab_type": "code",
        "colab": {}
      },
      "source": [
        "import pandas as pd\n",
        "import numpy as np\n",
        "import matplotlib.pyplot as plt"
      ],
      "execution_count": 1,
      "outputs": []
    },
    {
      "cell_type": "code",
      "metadata": {
        "id": "rNgZ4mmYHAC6",
        "colab_type": "code",
        "colab": {
          "base_uri": "https://localhost:8080/",
          "height": 101
        },
        "outputId": "6e57e930-6034-4ddd-9831-3b0c5d26fc1b"
      },
      "source": [
        "!pip install mnist"
      ],
      "execution_count": 3,
      "outputs": [
        {
          "output_type": "stream",
          "text": [
            "Collecting mnist\n",
            "  Downloading https://files.pythonhosted.org/packages/c6/c4/5db3bfe009f8d71f1d532bbadbd0ec203764bba3a469e4703a889db8e5e0/mnist-0.2.2-py2.py3-none-any.whl\n",
            "Requirement already satisfied: numpy in /usr/local/lib/python3.6/dist-packages (from mnist) (1.18.5)\n",
            "Installing collected packages: mnist\n",
            "Successfully installed mnist-0.2.2\n"
          ],
          "name": "stdout"
        }
      ]
    },
    {
      "cell_type": "code",
      "metadata": {
        "id": "FEjp3KwcGsJw",
        "colab_type": "code",
        "colab": {}
      },
      "source": [
        "import keras\n",
        "import mnist"
      ],
      "execution_count": 4,
      "outputs": []
    },
    {
      "cell_type": "markdown",
      "metadata": {
        "id": "wZXqexCAHpck",
        "colab_type": "text"
      },
      "source": [
        "### Load and prepare data "
      ]
    },
    {
      "cell_type": "code",
      "metadata": {
        "id": "SnaKUVfgG7nH",
        "colab_type": "code",
        "colab": {}
      },
      "source": [
        "train_images = mnist.train_images()\n",
        "train_labels = mnist.train_labels()"
      ],
      "execution_count": 5,
      "outputs": []
    },
    {
      "cell_type": "code",
      "metadata": {
        "id": "eo9REeqMHOGx",
        "colab_type": "code",
        "colab": {
          "base_uri": "https://localhost:8080/",
          "height": 50
        },
        "outputId": "05f01826-4bb8-412e-a35d-9921e7b801cb"
      },
      "source": [
        "print(train_images.shape)\n",
        "print(train_labels.shape)"
      ],
      "execution_count": 6,
      "outputs": [
        {
          "output_type": "stream",
          "text": [
            "(60000, 28, 28)\n",
            "(60000,)\n"
          ],
          "name": "stdout"
        }
      ]
    },
    {
      "cell_type": "code",
      "metadata": {
        "id": "oncog89qHYc-",
        "colab_type": "code",
        "colab": {}
      },
      "source": [
        "import numpy as np\n",
        "import mnist\n",
        "\n",
        "train_images = mnist.train_images()\n",
        "train_labels = mnist.train_labels()\n",
        "test_images = mnist.test_images()\n",
        "test_labels = mnist.test_labels()"
      ],
      "execution_count": 7,
      "outputs": []
    },
    {
      "cell_type": "code",
      "metadata": {
        "id": "U07jfeJhIQdI",
        "colab_type": "code",
        "colab": {}
      },
      "source": [
        "# We’ll normalize the image pixel values from [0, 255] to [-0.5, 0.5] to make our network easier to train \n",
        "train_images = (train_images / 255) - 0.5\n",
        "test_images = (test_images / 255) - 0.5"
      ],
      "execution_count": 8,
      "outputs": []
    },
    {
      "cell_type": "code",
      "metadata": {
        "id": "bVge9xBWIVjU",
        "colab_type": "code",
        "colab": {}
      },
      "source": [
        "# We’ll also reshape each image from (28, 28) to (28, 28, 1) because Keras requires the third dimension\n",
        "train_images = np.expand_dims(train_images, axis=3)\n",
        "test_images = np.expand_dims(test_images, axis=3)"
      ],
      "execution_count": 9,
      "outputs": []
    },
    {
      "cell_type": "code",
      "metadata": {
        "id": "cgdjIUkKIZyf",
        "colab_type": "code",
        "colab": {
          "base_uri": "https://localhost:8080/",
          "height": 50
        },
        "outputId": "3f5473f6-3208-42fa-9753-5c660a62c8ff"
      },
      "source": [
        "print(train_images.shape)\n",
        "print(test_images.shape)"
      ],
      "execution_count": 10,
      "outputs": [
        {
          "output_type": "stream",
          "text": [
            "(60000, 28, 28, 1)\n",
            "(10000, 28, 28, 1)\n"
          ],
          "name": "stdout"
        }
      ]
    },
    {
      "cell_type": "markdown",
      "metadata": {
        "id": "0v9__raYIoUS",
        "colab_type": "text"
      },
      "source": [
        "### Building the model"
      ]
    },
    {
      "cell_type": "code",
      "metadata": {
        "id": "0uAMircYIdQW",
        "colab_type": "code",
        "colab": {}
      },
      "source": [
        "from keras.models import Sequential\n",
        "from keras.layers import Conv2D, MaxPooling2D, Dense, Flatten\n"
      ],
      "execution_count": 16,
      "outputs": []
    },
    {
      "cell_type": "code",
      "metadata": {
        "id": "v9Isp0McKKWh",
        "colab_type": "code",
        "colab": {}
      },
      "source": [
        "num_filters = 8 # Number of filters to be used for convolution\n",
        "filter_size = 3 # size of filter 3x3\n",
        "pool_size = 2 # size of pooling matrix is 2x2"
      ],
      "execution_count": 17,
      "outputs": []
    },
    {
      "cell_type": "code",
      "metadata": {
        "id": "SWu2OPg6KP6I",
        "colab_type": "code",
        "colab": {}
      },
      "source": [
        "# Output softmax layer has 10 nodes, one for each digit\n",
        "model = Sequential([\n",
        "  Conv2D(num_filters, filter_size, input_shape=(28, 28, 1)),\n",
        "  MaxPooling2D(pool_size=pool_size),\n",
        "  Flatten(),\n",
        "  Dense(10, activation='softmax'),\n",
        "])"
      ],
      "execution_count": 18,
      "outputs": []
    },
    {
      "cell_type": "code",
      "metadata": {
        "id": "v9SjEVaWKooD",
        "colab_type": "code",
        "colab": {}
      },
      "source": [
        "model.compile(optimizer='adam',loss='categorical_crossentropy',metrics=['accuracy'])"
      ],
      "execution_count": 19,
      "outputs": []
    },
    {
      "cell_type": "code",
      "metadata": {
        "id": "o77YxQLdMJI1",
        "colab_type": "code",
        "colab": {}
      },
      "source": [
        "from keras.utils import to_categorical"
      ],
      "execution_count": 20,
      "outputs": []
    },
    {
      "cell_type": "code",
      "metadata": {
        "id": "5pIajWxQMp96",
        "colab_type": "code",
        "colab": {
          "base_uri": "https://localhost:8080/",
          "height": 151
        },
        "outputId": "6a54dfac-a61d-4be1-f91c-ec032fa011dc"
      },
      "source": [
        "# Keras expects the training targets to be 10-dimensional vectors, since there are 10 nodes in our Softmax output layer\n",
        "# Conveniently, Keras has a utility method that fixes this exact issue: to_categorical\n",
        "# It turns our array of class integers into an array of one-hot vectors instead. For example, 2 would become [0, 0, 1, 0, 0, 0, 0, 0, 0, 0] (it’s zero-indexed)\n",
        "model.fit(train_images, to_categorical(train_labels),epochs=3, validation_data=(test_images, to_categorical(test_labels)))"
      ],
      "execution_count": 21,
      "outputs": [
        {
          "output_type": "stream",
          "text": [
            "Train on 60000 samples, validate on 10000 samples\n",
            "Epoch 1/3\n",
            "60000/60000 [==============================] - 15s 258us/step - loss: 0.3600 - accuracy: 0.8958 - val_loss: 0.2327 - val_accuracy: 0.9303\n",
            "Epoch 2/3\n",
            "60000/60000 [==============================] - 9s 158us/step - loss: 0.2014 - accuracy: 0.9420 - val_loss: 0.1683 - val_accuracy: 0.9502\n",
            "Epoch 3/3\n",
            "60000/60000 [==============================] - 9s 158us/step - loss: 0.1482 - accuracy: 0.9574 - val_loss: 0.1425 - val_accuracy: 0.9537\n"
          ],
          "name": "stdout"
        },
        {
          "output_type": "execute_result",
          "data": {
            "text/plain": [
              "<keras.callbacks.callbacks.History at 0x7fe4a0366ef0>"
            ]
          },
          "metadata": {
            "tags": []
          },
          "execution_count": 21
        }
      ]
    },
    {
      "cell_type": "code",
      "metadata": {
        "id": "a5YsKBLLNISI",
        "colab_type": "code",
        "colab": {}
      },
      "source": [
        "model.save_weights('cnn.h5')"
      ],
      "execution_count": 22,
      "outputs": []
    },
    {
      "cell_type": "code",
      "metadata": {
        "id": "JT9Bib4lNWwZ",
        "colab_type": "code",
        "colab": {}
      },
      "source": [
        "# Predict on the first 5 test images.\n",
        "predictions = model.predict(test_images[:5])"
      ],
      "execution_count": 23,
      "outputs": []
    },
    {
      "cell_type": "code",
      "metadata": {
        "id": "ZvE8HHBoNlx3",
        "colab_type": "code",
        "colab": {
          "base_uri": "https://localhost:8080/",
          "height": 34
        },
        "outputId": "ce2fd36d-c7bc-414d-ceea-182d961e64f7"
      },
      "source": [
        "# The output of our network is 10 probabilities (because of softmax), so we’ll use np.argmax() to turn those into actual digits\n",
        "print(np.argmax(predictions, axis=1))\n"
      ],
      "execution_count": 25,
      "outputs": [
        {
          "output_type": "stream",
          "text": [
            "[7 2 1 0 4]\n"
          ],
          "name": "stdout"
        }
      ]
    },
    {
      "cell_type": "code",
      "metadata": {
        "id": "Ol2ox5PQNp9A",
        "colab_type": "code",
        "colab": {
          "base_uri": "https://localhost:8080/",
          "height": 34
        },
        "outputId": "fda243af-ac30-4d2b-9edd-32459902233e"
      },
      "source": [
        "# Check our predictions against the ground truths.\n",
        "print(test_labels[:5])"
      ],
      "execution_count": 26,
      "outputs": [
        {
          "output_type": "stream",
          "text": [
            "[7 2 1 0 4]\n"
          ],
          "name": "stdout"
        }
      ]
    },
    {
      "cell_type": "code",
      "metadata": {
        "id": "TdlPM9yIOKkq",
        "colab_type": "code",
        "colab": {}
      },
      "source": [
        "# Few other experiments\n",
        "# What happens if we add or remove Convolutional layers?\n",
        "# What if we tried adding Dropout layers, which are commonly used to prevent overfitting?\n",
        "# What if we add fully-connected layers between the Convolutional outputs and the final Softmax layer?\n",
        "# What if we play with the Conv2D parameters? "
      ],
      "execution_count": 27,
      "outputs": []
    }
  ]
}