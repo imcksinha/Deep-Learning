{
 "cells": [
  {
   "cell_type": "markdown",
   "metadata": {},
   "source": [
    "# Import the libraries"
   ]
  },
  {
   "cell_type": "code",
   "execution_count": 4,
   "metadata": {},
   "outputs": [],
   "source": [
    "import pandas as pd\n",
    "import numpy as np\n",
    "import matplotlib.pyplot as plt"
   ]
  },
  {
   "cell_type": "code",
   "execution_count": 5,
   "metadata": {},
   "outputs": [],
   "source": [
    "from numpy import loadtxt\n",
    "from keras.models import Sequential\n",
    "from keras.layers import Dense"
   ]
  },
  {
   "cell_type": "markdown",
   "metadata": {},
   "source": [
    "### Load the data"
   ]
  },
  {
   "cell_type": "code",
   "execution_count": 6,
   "metadata": {},
   "outputs": [],
   "source": [
    "# Pima Indians onset of diabetes dataset - It describes patient medical record data for Pima Indians and whether they had an onset of diabetes within five years\n",
    "# It is a binary classification problem (onset of diabetes as 1 or not as 0)\n",
    "# All of the input variables that describe each patient are numerical\n",
    "# This makes it easy to use directly with neural networks that expect numerical input and output values\n",
    "dataset = loadtxt('pima-indians-diabetes.csv', delimiter=',')"
   ]
  },
  {
   "cell_type": "code",
   "execution_count": 9,
   "metadata": {},
   "outputs": [
    {
     "data": {
      "text/plain": [
       "(768, 9)"
      ]
     },
     "execution_count": 9,
     "metadata": {},
     "output_type": "execute_result"
    }
   ],
   "source": [
    "dataset.shape"
   ]
  },
  {
   "cell_type": "code",
   "execution_count": 10,
   "metadata": {},
   "outputs": [
    {
     "data": {
      "text/plain": [
       "array([[6.000e+00, 1.480e+02, 7.200e+01, 3.500e+01, 0.000e+00, 3.360e+01,\n",
       "        6.270e-01, 5.000e+01, 1.000e+00],\n",
       "       [1.000e+00, 8.500e+01, 6.600e+01, 2.900e+01, 0.000e+00, 2.660e+01,\n",
       "        3.510e-01, 3.100e+01, 0.000e+00],\n",
       "       [8.000e+00, 1.830e+02, 6.400e+01, 0.000e+00, 0.000e+00, 2.330e+01,\n",
       "        6.720e-01, 3.200e+01, 1.000e+00],\n",
       "       [1.000e+00, 8.900e+01, 6.600e+01, 2.300e+01, 9.400e+01, 2.810e+01,\n",
       "        1.670e-01, 2.100e+01, 0.000e+00],\n",
       "       [0.000e+00, 1.370e+02, 4.000e+01, 3.500e+01, 1.680e+02, 4.310e+01,\n",
       "        2.288e+00, 3.300e+01, 1.000e+00]])"
      ]
     },
     "execution_count": 10,
     "metadata": {},
     "output_type": "execute_result"
    }
   ],
   "source": [
    "dataset[0:5]"
   ]
  },
  {
   "cell_type": "code",
   "execution_count": 14,
   "metadata": {},
   "outputs": [],
   "source": [
    "# Input Variables (X):\n",
    "\n",
    "# Number of times pregnant\n",
    "# Plasma glucose concentration a 2 hours in an oral glucose tolerance test\n",
    "# Diastolic blood pressure (mm Hg)\n",
    "# Triceps skin fold thickness (mm)\n",
    "# 2-Hour serum insulin (mu U/ml)\n",
    "# Body mass index (weight in kg/(height in m)^2)\n",
    "# Diabetes pedigree function\n",
    "# Age (years)\n",
    "# Output Variables (y):\n",
    "\n",
    "# Class variable (0 or 1)"
   ]
  },
  {
   "cell_type": "code",
   "execution_count": 11,
   "metadata": {},
   "outputs": [],
   "source": [
    "# Split the dataset into X and y\n",
    "X = dataset[:,0:8] \n",
    "y = dataset[:,8]"
   ]
  },
  {
   "cell_type": "markdown",
   "metadata": {},
   "source": [
    "### Define Keras model"
   ]
  },
  {
   "cell_type": "code",
   "execution_count": 15,
   "metadata": {},
   "outputs": [],
   "source": [
    "# We will use a fully-connected network structure with three layers\n",
    "# Fully connected layers are defined using the Dense class\n",
    "model = Sequential()\n",
    "model.add(Dense(12,input_shape=(8,),activation='relu')) # First hidden layer\n",
    "model.add(Dense(8, activation='relu')) # After the 1st layer your don't need to specify the size of input anymore\n",
    "model.add(Dense(1, activation='sigmoid')) # Output layer"
   ]
  },
  {
   "cell_type": "markdown",
   "metadata": {},
   "source": [
    "### Compile Keras model"
   ]
  },
  {
   "cell_type": "code",
   "execution_count": 16,
   "metadata": {},
   "outputs": [],
   "source": [
    "# loss function for binary classification is binary_crossentropy\n",
    "# Adam is an efficient stochastic gradient descent algorithm\n",
    "model.compile(loss='binary_crossentropy',optimizer='adam', metrics=['accuracy'])"
   ]
  },
  {
   "cell_type": "markdown",
   "metadata": {},
   "source": [
    "### Fit Keras model"
   ]
  },
  {
   "cell_type": "code",
   "execution_count": 17,
   "metadata": {},
   "outputs": [
    {
     "name": "stdout",
     "output_type": "stream",
     "text": [
      "Epoch 1/150\n",
      "768/768 [==============================] - 3s 4ms/step - loss: 1.8007 - acc: 0.5820\n",
      "Epoch 2/150\n",
      "768/768 [==============================] - 0s 216us/step - loss: 1.0297 - acc: 0.6133\n",
      "Epoch 3/150\n",
      "768/768 [==============================] - 0s 243us/step - loss: 0.8024 - acc: 0.6224\n",
      "Epoch 4/150\n",
      "768/768 [==============================] - 0s 252us/step - loss: 0.7163 - acc: 0.6328\n",
      "Epoch 5/150\n",
      "768/768 [==============================] - 0s 193us/step - loss: 0.6692 - acc: 0.6328\n",
      "Epoch 6/150\n",
      "768/768 [==============================] - 0s 187us/step - loss: 0.6635 - acc: 0.6602\n",
      "Epoch 7/150\n",
      "768/768 [==============================] - 0s 231us/step - loss: 0.6650 - acc: 0.6510\n",
      "Epoch 8/150\n",
      "768/768 [==============================] - 0s 211us/step - loss: 0.6390 - acc: 0.6719\n",
      "Epoch 9/150\n",
      "768/768 [==============================] - 0s 234us/step - loss: 0.6237 - acc: 0.6862\n",
      "Epoch 10/150\n",
      "768/768 [==============================] - 0s 217us/step - loss: 0.6245 - acc: 0.6875\n",
      "Epoch 11/150\n",
      "768/768 [==============================] - 0s 199us/step - loss: 0.6167 - acc: 0.6862\n",
      "Epoch 12/150\n",
      "768/768 [==============================] - 0s 202us/step - loss: 0.6234 - acc: 0.6771\n",
      "Epoch 13/150\n",
      "768/768 [==============================] - 0s 218us/step - loss: 0.6115 - acc: 0.6823\n",
      "Epoch 14/150\n",
      "768/768 [==============================] - 0s 237us/step - loss: 0.6146 - acc: 0.6589\n",
      "Epoch 15/150\n",
      "768/768 [==============================] - 0s 198us/step - loss: 0.6077 - acc: 0.6836\n",
      "Epoch 16/150\n",
      "768/768 [==============================] - 0s 202us/step - loss: 0.6064 - acc: 0.6693\n",
      "Epoch 17/150\n",
      "768/768 [==============================] - 0s 199us/step - loss: 0.5994 - acc: 0.6745\n",
      "Epoch 18/150\n",
      "768/768 [==============================] - 0s 227us/step - loss: 0.6025 - acc: 0.6849\n",
      "Epoch 19/150\n",
      "768/768 [==============================] - 0s 228us/step - loss: 0.6018 - acc: 0.6732\n",
      "Epoch 20/150\n",
      "768/768 [==============================] - 0s 258us/step - loss: 0.6019 - acc: 0.6771\n",
      "Epoch 21/150\n",
      "768/768 [==============================] - 0s 236us/step - loss: 0.6012 - acc: 0.6823\n",
      "Epoch 22/150\n",
      "768/768 [==============================] - 0s 229us/step - loss: 0.5993 - acc: 0.6810\n",
      "Epoch 23/150\n",
      "768/768 [==============================] - 0s 231us/step - loss: 0.5919 - acc: 0.6849\n",
      "Epoch 24/150\n",
      "768/768 [==============================] - 0s 206us/step - loss: 0.6025 - acc: 0.6693\n",
      "Epoch 25/150\n",
      "768/768 [==============================] - 0s 243us/step - loss: 0.6076 - acc: 0.6745\n",
      "Epoch 26/150\n",
      "768/768 [==============================] - 0s 258us/step - loss: 0.5927 - acc: 0.6823\n",
      "Epoch 27/150\n",
      "768/768 [==============================] - ETA: 0s - loss: 0.5970 - acc: 0.677 - 0s 238us/step - loss: 0.5931 - acc: 0.6862\n",
      "Epoch 28/150\n",
      "768/768 [==============================] - 0s 270us/step - loss: 0.5967 - acc: 0.6758\n",
      "Epoch 29/150\n",
      "768/768 [==============================] - 0s 243us/step - loss: 0.5928 - acc: 0.6875\n",
      "Epoch 30/150\n",
      "768/768 [==============================] - 0s 250us/step - loss: 0.5937 - acc: 0.6758\n",
      "Epoch 31/150\n",
      "768/768 [==============================] - 0s 236us/step - loss: 0.5936 - acc: 0.6758\n",
      "Epoch 32/150\n",
      "768/768 [==============================] - 0s 217us/step - loss: 0.5852 - acc: 0.6901\n",
      "Epoch 33/150\n",
      "768/768 [==============================] - 0s 221us/step - loss: 0.5894 - acc: 0.6797\n",
      "Epoch 34/150\n",
      "768/768 [==============================] - 0s 228us/step - loss: 0.5831 - acc: 0.7005\n",
      "Epoch 35/150\n",
      "768/768 [==============================] - 0s 230us/step - loss: 0.5839 - acc: 0.6979\n",
      "Epoch 36/150\n",
      "768/768 [==============================] - 0s 238us/step - loss: 0.5874 - acc: 0.6862\n",
      "Epoch 37/150\n",
      "768/768 [==============================] - 0s 261us/step - loss: 0.5946 - acc: 0.6901\n",
      "Epoch 38/150\n",
      "768/768 [==============================] - 0s 249us/step - loss: 0.5814 - acc: 0.6979\n",
      "Epoch 39/150\n",
      "768/768 [==============================] - 0s 212us/step - loss: 0.5825 - acc: 0.6927\n",
      "Epoch 40/150\n",
      "768/768 [==============================] - 0s 196us/step - loss: 0.5842 - acc: 0.6953\n",
      "Epoch 41/150\n",
      "768/768 [==============================] - 0s 219us/step - loss: 0.5840 - acc: 0.6784\n",
      "Epoch 42/150\n",
      "768/768 [==============================] - 0s 183us/step - loss: 0.5730 - acc: 0.6966\n",
      "Epoch 43/150\n",
      "768/768 [==============================] - 0s 198us/step - loss: 0.5803 - acc: 0.6940\n",
      "Epoch 44/150\n",
      "768/768 [==============================] - 0s 237us/step - loss: 0.5897 - acc: 0.6810\n",
      "Epoch 45/150\n",
      "768/768 [==============================] - 0s 216us/step - loss: 0.5748 - acc: 0.6901\n",
      "Epoch 46/150\n",
      "768/768 [==============================] - 0s 220us/step - loss: 0.5810 - acc: 0.6758\n",
      "Epoch 47/150\n",
      "768/768 [==============================] - 0s 234us/step - loss: 0.5735 - acc: 0.6901\n",
      "Epoch 48/150\n",
      "768/768 [==============================] - 0s 231us/step - loss: 0.5847 - acc: 0.6810\n",
      "Epoch 49/150\n",
      "768/768 [==============================] - 0s 196us/step - loss: 0.5736 - acc: 0.6979\n",
      "Epoch 50/150\n",
      "768/768 [==============================] - 0s 201us/step - loss: 0.5721 - acc: 0.6979\n",
      "Epoch 51/150\n",
      "768/768 [==============================] - 0s 196us/step - loss: 0.5912 - acc: 0.6888\n",
      "Epoch 52/150\n",
      "768/768 [==============================] - 0s 225us/step - loss: 0.5692 - acc: 0.6966\n",
      "Epoch 53/150\n",
      "768/768 [==============================] - 0s 229us/step - loss: 0.5696 - acc: 0.6927\n",
      "Epoch 54/150\n",
      "768/768 [==============================] - 0s 235us/step - loss: 0.5750 - acc: 0.6849\n",
      "Epoch 55/150\n",
      "768/768 [==============================] - 0s 279us/step - loss: 0.5662 - acc: 0.6914\n",
      "Epoch 56/150\n",
      "768/768 [==============================] - 0s 178us/step - loss: 0.5741 - acc: 0.6875\n",
      "Epoch 57/150\n",
      "768/768 [==============================] - 0s 166us/step - loss: 0.5785 - acc: 0.6914\n",
      "Epoch 58/150\n",
      "768/768 [==============================] - 0s 186us/step - loss: 0.5665 - acc: 0.6953\n",
      "Epoch 59/150\n",
      "768/768 [==============================] - 0s 192us/step - loss: 0.5734 - acc: 0.6862\n",
      "Epoch 60/150\n",
      "768/768 [==============================] - 0s 190us/step - loss: 0.5637 - acc: 0.6953\n",
      "Epoch 61/150\n",
      "768/768 [==============================] - 0s 222us/step - loss: 0.5719 - acc: 0.6862\n",
      "Epoch 62/150\n",
      "768/768 [==============================] - 0s 209us/step - loss: 0.5678 - acc: 0.6953\n",
      "Epoch 63/150\n",
      "768/768 [==============================] - 0s 179us/step - loss: 0.5721 - acc: 0.6862\n",
      "Epoch 64/150\n",
      "768/768 [==============================] - 0s 158us/step - loss: 0.5669 - acc: 0.6927\n",
      "Epoch 65/150\n",
      "768/768 [==============================] - 0s 181us/step - loss: 0.5664 - acc: 0.6823\n",
      "Epoch 66/150\n",
      "768/768 [==============================] - 0s 165us/step - loss: 0.5658 - acc: 0.6992\n",
      "Epoch 67/150\n",
      "768/768 [==============================] - 0s 205us/step - loss: 0.5776 - acc: 0.6875\n",
      "Epoch 68/150\n",
      "768/768 [==============================] - 0s 195us/step - loss: 0.5700 - acc: 0.6927\n",
      "Epoch 69/150\n",
      "768/768 [==============================] - 0s 193us/step - loss: 0.5593 - acc: 0.7083\n",
      "Epoch 70/150\n",
      "768/768 [==============================] - 0s 197us/step - loss: 0.5566 - acc: 0.7057\n",
      "Epoch 71/150\n",
      "768/768 [==============================] - 0s 210us/step - loss: 0.5636 - acc: 0.6992\n",
      "Epoch 72/150\n",
      "768/768 [==============================] - 0s 199us/step - loss: 0.5657 - acc: 0.6940\n",
      "Epoch 73/150\n",
      "768/768 [==============================] - 0s 191us/step - loss: 0.5623 - acc: 0.6862\n",
      "Epoch 74/150\n",
      "768/768 [==============================] - 0s 180us/step - loss: 0.5549 - acc: 0.7083\n",
      "Epoch 75/150\n",
      "768/768 [==============================] - 0s 227us/step - loss: 0.5504 - acc: 0.7083\n",
      "Epoch 76/150\n",
      "768/768 [==============================] - 0s 192us/step - loss: 0.5554 - acc: 0.6992\n",
      "Epoch 77/150\n",
      "768/768 [==============================] - 0s 186us/step - loss: 0.5602 - acc: 0.7005\n",
      "Epoch 78/150\n",
      "768/768 [==============================] - 0s 189us/step - loss: 0.5624 - acc: 0.6992\n",
      "Epoch 79/150\n",
      "768/768 [==============================] - 0s 189us/step - loss: 0.5575 - acc: 0.6940\n",
      "Epoch 80/150\n",
      "768/768 [==============================] - 0s 198us/step - loss: 0.5650 - acc: 0.6875\n",
      "Epoch 81/150\n",
      "768/768 [==============================] - 0s 222us/step - loss: 0.5633 - acc: 0.6888\n",
      "Epoch 82/150\n",
      "768/768 [==============================] - 0s 191us/step - loss: 0.5529 - acc: 0.6901\n",
      "Epoch 83/150\n"
     ]
    },
    {
     "name": "stdout",
     "output_type": "stream",
     "text": [
      "768/768 [==============================] - 0s 185us/step - loss: 0.5499 - acc: 0.6875\n",
      "Epoch 84/150\n",
      "768/768 [==============================] - 0s 217us/step - loss: 0.5489 - acc: 0.7005\n",
      "Epoch 85/150\n",
      "768/768 [==============================] - 0s 220us/step - loss: 0.5449 - acc: 0.7044\n",
      "Epoch 86/150\n",
      "768/768 [==============================] - ETA: 0s - loss: 0.5539 - acc: 0.698 - 0s 222us/step - loss: 0.5538 - acc: 0.6966\n",
      "Epoch 87/150\n",
      "768/768 [==============================] - 0s 228us/step - loss: 0.5448 - acc: 0.6901\n",
      "Epoch 88/150\n",
      "768/768 [==============================] - 0s 199us/step - loss: 0.5494 - acc: 0.7018\n",
      "Epoch 89/150\n",
      "768/768 [==============================] - 0s 228us/step - loss: 0.5478 - acc: 0.7070\n",
      "Epoch 90/150\n",
      "768/768 [==============================] - 0s 226us/step - loss: 0.5460 - acc: 0.6940\n",
      "Epoch 91/150\n",
      "768/768 [==============================] - 0s 214us/step - loss: 0.5465 - acc: 0.6953\n",
      "Epoch 92/150\n",
      "768/768 [==============================] - 0s 213us/step - loss: 0.5484 - acc: 0.6914\n",
      "Epoch 93/150\n",
      "768/768 [==============================] - 0s 207us/step - loss: 0.5516 - acc: 0.6927\n",
      "Epoch 94/150\n",
      "768/768 [==============================] - 0s 210us/step - loss: 0.5517 - acc: 0.6901\n",
      "Epoch 95/150\n",
      "768/768 [==============================] - 0s 209us/step - loss: 0.5484 - acc: 0.6914\n",
      "Epoch 96/150\n",
      "768/768 [==============================] - 0s 228us/step - loss: 0.5403 - acc: 0.7122\n",
      "Epoch 97/150\n",
      "768/768 [==============================] - 0s 206us/step - loss: 0.5422 - acc: 0.6992\n",
      "Epoch 98/150\n",
      "768/768 [==============================] - 0s 217us/step - loss: 0.5409 - acc: 0.7070\n",
      "Epoch 99/150\n",
      "768/768 [==============================] - 0s 216us/step - loss: 0.5450 - acc: 0.7018\n",
      "Epoch 100/150\n",
      "768/768 [==============================] - 0s 226us/step - loss: 0.5403 - acc: 0.7044\n",
      "Epoch 101/150\n",
      "768/768 [==============================] - 0s 201us/step - loss: 0.5420 - acc: 0.6966\n",
      "Epoch 102/150\n",
      "768/768 [==============================] - 0s 214us/step - loss: 0.5375 - acc: 0.6940\n",
      "Epoch 103/150\n",
      "768/768 [==============================] - 0s 191us/step - loss: 0.5366 - acc: 0.7083\n",
      "Epoch 104/150\n",
      "768/768 [==============================] - 0s 226us/step - loss: 0.5404 - acc: 0.7057\n",
      "Epoch 105/150\n",
      "768/768 [==============================] - 0s 207us/step - loss: 0.5325 - acc: 0.7031\n",
      "Epoch 106/150\n",
      "768/768 [==============================] - 0s 189us/step - loss: 0.5389 - acc: 0.7018\n",
      "Epoch 107/150\n",
      "768/768 [==============================] - 0s 234us/step - loss: 0.5368 - acc: 0.6966\n",
      "Epoch 108/150\n",
      "768/768 [==============================] - 0s 223us/step - loss: 0.5348 - acc: 0.7096\n",
      "Epoch 109/150\n",
      "768/768 [==============================] - 0s 216us/step - loss: 0.5368 - acc: 0.6966\n",
      "Epoch 110/150\n",
      "768/768 [==============================] - 0s 224us/step - loss: 0.5346 - acc: 0.6966\n",
      "Epoch 111/150\n",
      "768/768 [==============================] - 0s 180us/step - loss: 0.5296 - acc: 0.7096\n",
      "Epoch 112/150\n",
      "768/768 [==============================] - 0s 242us/step - loss: 0.5260 - acc: 0.7174\n",
      "Epoch 113/150\n",
      "768/768 [==============================] - 0s 184us/step - loss: 0.5318 - acc: 0.6940\n",
      "Epoch 114/150\n",
      "768/768 [==============================] - 0s 198us/step - loss: 0.5313 - acc: 0.6979\n",
      "Epoch 115/150\n",
      "768/768 [==============================] - 0s 243us/step - loss: 0.5266 - acc: 0.6940\n",
      "Epoch 116/150\n",
      "768/768 [==============================] - 0s 226us/step - loss: 0.5351 - acc: 0.7057\n",
      "Epoch 117/150\n",
      "768/768 [==============================] - 0s 229us/step - loss: 0.5264 - acc: 0.7031\n",
      "Epoch 118/150\n",
      "768/768 [==============================] - 0s 237us/step - loss: 0.5225 - acc: 0.7096\n",
      "Epoch 119/150\n",
      "768/768 [==============================] - 0s 247us/step - loss: 0.5286 - acc: 0.7018\n",
      "Epoch 120/150\n",
      "768/768 [==============================] - 0s 233us/step - loss: 0.5375 - acc: 0.6940\n",
      "Epoch 121/150\n",
      "768/768 [==============================] - 0s 229us/step - loss: 0.5316 - acc: 0.7018\n",
      "Epoch 122/150\n",
      "768/768 [==============================] - 0s 224us/step - loss: 0.5294 - acc: 0.7044\n",
      "Epoch 123/150\n",
      "768/768 [==============================] - 0s 236us/step - loss: 0.5267 - acc: 0.7057\n",
      "Epoch 124/150\n",
      "768/768 [==============================] - 0s 230us/step - loss: 0.5402 - acc: 0.6953\n",
      "Epoch 125/150\n",
      "768/768 [==============================] - 0s 224us/step - loss: 0.5315 - acc: 0.6966\n",
      "Epoch 126/150\n",
      "768/768 [==============================] - 0s 229us/step - loss: 0.5196 - acc: 0.7083\n",
      "Epoch 127/150\n",
      "768/768 [==============================] - 0s 222us/step - loss: 0.5212 - acc: 0.7122\n",
      "Epoch 128/150\n",
      "768/768 [==============================] - 0s 218us/step - loss: 0.5249 - acc: 0.7096 0s - loss: 0.5266 - acc: 0.706\n",
      "Epoch 129/150\n",
      "768/768 [==============================] - 0s 213us/step - loss: 0.5178 - acc: 0.7018\n",
      "Epoch 130/150\n",
      "768/768 [==============================] - 0s 222us/step - loss: 0.5190 - acc: 0.7005\n",
      "Epoch 131/150\n",
      "768/768 [==============================] - 0s 204us/step - loss: 0.5258 - acc: 0.7083\n",
      "Epoch 132/150\n",
      "768/768 [==============================] - 0s 200us/step - loss: 0.5272 - acc: 0.7057\n",
      "Epoch 133/150\n",
      "768/768 [==============================] - 0s 202us/step - loss: 0.5172 - acc: 0.7161\n",
      "Epoch 134/150\n",
      "768/768 [==============================] - 0s 220us/step - loss: 0.5118 - acc: 0.7161\n",
      "Epoch 135/150\n",
      "768/768 [==============================] - 0s 220us/step - loss: 0.5185 - acc: 0.6966\n",
      "Epoch 136/150\n",
      "768/768 [==============================] - 0s 203us/step - loss: 0.5312 - acc: 0.7018\n",
      "Epoch 137/150\n",
      "768/768 [==============================] - 0s 194us/step - loss: 0.5182 - acc: 0.6927\n",
      "Epoch 138/150\n",
      "768/768 [==============================] - 0s 220us/step - loss: 0.5239 - acc: 0.7057\n",
      "Epoch 139/150\n",
      "768/768 [==============================] - 0s 178us/step - loss: 0.5179 - acc: 0.7057\n",
      "Epoch 140/150\n",
      "768/768 [==============================] - 0s 196us/step - loss: 0.5285 - acc: 0.6966\n",
      "Epoch 141/150\n",
      "768/768 [==============================] - 0s 196us/step - loss: 0.5348 - acc: 0.7018\n",
      "Epoch 142/150\n",
      "768/768 [==============================] - 0s 204us/step - loss: 0.5111 - acc: 0.7201\n",
      "Epoch 143/150\n",
      "768/768 [==============================] - 0s 184us/step - loss: 0.5150 - acc: 0.6953\n",
      "Epoch 144/150\n",
      "768/768 [==============================] - 0s 192us/step - loss: 0.5294 - acc: 0.6914\n",
      "Epoch 145/150\n",
      "768/768 [==============================] - 0s 199us/step - loss: 0.5307 - acc: 0.6966\n",
      "Epoch 146/150\n",
      "768/768 [==============================] - 0s 195us/step - loss: 0.5124 - acc: 0.6966\n",
      "Epoch 147/150\n",
      "768/768 [==============================] - 0s 179us/step - loss: 0.5128 - acc: 0.7187\n",
      "Epoch 148/150\n",
      "768/768 [==============================] - 0s 204us/step - loss: 0.5249 - acc: 0.6979\n",
      "Epoch 149/150\n",
      "768/768 [==============================] - 0s 200us/step - loss: 0.5240 - acc: 0.7044\n",
      "Epoch 150/150\n",
      "768/768 [==============================] - 0s 244us/step - loss: 0.5126 - acc: 0.7083\n"
     ]
    },
    {
     "data": {
      "text/plain": [
       "<keras.callbacks.History at 0x294ba27bcc0>"
      ]
     },
     "execution_count": 17,
     "metadata": {},
     "output_type": "execute_result"
    }
   ],
   "source": [
    "# Training occurs over epochs and each epoch is split into batches\n",
    "# Epoch: One pass through all of the rows in the training dataset\n",
    "# Batch: One or more samples considered by the model within an epoch before weights are updated\n",
    "# One epoch is comprised of one or more batches, based on the chosen batch size and the model is fit for many epochs\n",
    "# The model will always have some error, but the amount of error will level out after some point for a given model configuration\n",
    "# This is called model convergence\n",
    "model.fit(X,y,epochs=150,batch_size=10)"
   ]
  },
  {
   "cell_type": "markdown",
   "metadata": {},
   "source": [
    "### Evaluate Keras model"
   ]
  },
  {
   "cell_type": "code",
   "execution_count": 18,
   "metadata": {},
   "outputs": [
    {
     "name": "stdout",
     "output_type": "stream",
     "text": [
      "768/768 [==============================] - 0s 358us/step\n",
      "Accuracy: 70.70\n"
     ]
    }
   ],
   "source": [
    "# Ideally we should split our data into training and evaluation sets, build our model on the training set and test on the evaluation set\n",
    "# The evaluate() function will return a list with two values. The first will be the loss of the model on the dataset and the second will be the accuracy of the model on the dataset\n",
    "# We are only interested in reporting the accuracy, so we will ignore the loss value\n",
    "_,accuracy = model.evaluate(X,y)\n",
    "print('Accuracy: %.2f' % (accuracy*100))"
   ]
  },
  {
   "cell_type": "markdown",
   "metadata": {},
   "source": [
    "### Make predictions on new dataset"
   ]
  },
  {
   "cell_type": "code",
   "execution_count": 19,
   "metadata": {},
   "outputs": [],
   "source": [
    "# Make probability predictions with the model\n",
    "predictions = model.predict(X)"
   ]
  },
  {
   "cell_type": "code",
   "execution_count": 21,
   "metadata": {},
   "outputs": [
    {
     "data": {
      "text/plain": [
       "array([[0.49302375],\n",
       "       [0.14336646],\n",
       "       [0.49302375],\n",
       "       [0.11420422],\n",
       "       [0.576085  ]], dtype=float32)"
      ]
     },
     "execution_count": 21,
     "metadata": {},
     "output_type": "execute_result"
    }
   ],
   "source": [
    "predictions[0:5]"
   ]
  },
  {
   "cell_type": "code",
   "execution_count": 22,
   "metadata": {},
   "outputs": [],
   "source": [
    "# Round predictions \n",
    "rounded = [round(x[0]) for x in predictions]"
   ]
  },
  {
   "cell_type": "code",
   "execution_count": 24,
   "metadata": {},
   "outputs": [
    {
     "data": {
      "text/plain": [
       "[0.0, 0.0, 0.0, 0.0, 1.0]"
      ]
     },
     "execution_count": 24,
     "metadata": {},
     "output_type": "execute_result"
    }
   ],
   "source": [
    "rounded[0:5]"
   ]
  },
  {
   "cell_type": "code",
   "execution_count": 25,
   "metadata": {},
   "outputs": [],
   "source": [
    "# Make class predictions with the model\n",
    "predictions = model.predict_classes(X)"
   ]
  }
 ],
 "metadata": {
  "kernelspec": {
   "display_name": "Python 3",
   "language": "python",
   "name": "python3"
  },
  "language_info": {
   "codemirror_mode": {
    "name": "ipython",
    "version": 3
   },
   "file_extension": ".py",
   "mimetype": "text/x-python",
   "name": "python",
   "nbconvert_exporter": "python",
   "pygments_lexer": "ipython3",
   "version": "3.6.8"
  }
 },
 "nbformat": 4,
 "nbformat_minor": 2
}
